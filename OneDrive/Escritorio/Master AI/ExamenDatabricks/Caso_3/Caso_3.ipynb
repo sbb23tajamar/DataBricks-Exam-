{
 "cells": [
  {
   "cell_type": "markdown",
   "metadata": {
    "application/vnd.databricks.v1+cell": {
     "cellMetadata": {},
     "inputWidgets": {},
     "nuid": "1f826429-1b0b-452b-98d5-d724d06f8ba3",
     "showTitle": false,
     "tableResultSettingsMap": {},
     "title": ""
    }
   },
   "source": [
    "# Explorando tendencias de mercado de Airbnb"
   ]
  },
  {
   "cell_type": "markdown",
   "metadata": {
    "application/vnd.databricks.v1+cell": {
     "cellMetadata": {},
     "inputWidgets": {},
     "nuid": "30017573-ddfa-442e-931f-69e52cab3f33",
     "showTitle": false,
     "tableResultSettingsMap": {},
     "title": ""
    }
   },
   "source": [
    "La ciudad de Nueva York tiene una variedad de anuncios de Airbnb para satisfacer la alta demanda de alojamiento temporal para viajeros, con diferentes niveles de precios, tipos de habitaciones y ubicaciones."
   ]
  },
  {
   "cell_type": "markdown",
   "metadata": {
    "application/vnd.databricks.v1+cell": {
     "cellMetadata": {},
     "inputWidgets": {},
     "nuid": "9113a8f5-7192-4887-b383-2d285a405f0f",
     "showTitle": false,
     "tableResultSettingsMap": {},
     "title": ""
    }
   },
   "source": [
    "La ciudad de Nueva York, es una de las ciudades más visitadas del mundo. Hay muchos anuncios de Airbnb en la ciudad de Nueva York para satisfacer la alta demanda de alojamiento temporal para viajeros, que puede durar desde unas pocas noches hasta muchos meses. En este proyecto, analizaremos más de cerca el mercado de Airbnb de Nueva York combinando datos de varios tipos de archivos como .csv, .tsv y .xlsx.\n",
    "\n",
    "Recuerde que los archivos CSV, TSV y Excel son tres formatos comunes para almacenar datos. Tiene a su disposición [tres archivos](https://tajamar365.sharepoint.com/:f:/s/3405-MasterIA2024-2025/EoXMgjAJLLNJqWDyKDig8kABSUkpWj_HGQjl267qNnHS9g?e=foxjFc) que contienen datos sobre los anuncios de Airbnb de 2019:  \n",
    "\n",
    "- `airbnb_price.csv `: Este es un archivo CSV que contiene datos sobre precios y ubicaciones de anuncios de Airbnb.  \n",
    "  1. `listing_id`: identificador único del anuncio  \n",
    "  2. `price`: precio del anuncio por noche en USD  \n",
    "  3. `nbhood_full`: nombre del distrito y del barrio donde se encuentra el anuncio  \n",
    "    \n",
    "\n",
    "- `airbnb_room_type.xlsx`: Este es un archivo Excel que contiene datos sobre las descripciones de los anuncios de Airbnb y los tipos de habitaciones.  \n",
    "  1. `listing_id`: identificador único del anuncio  \n",
    "  2. `description`: descripción del anuncio     \n",
    "  3. `room_type`: Airbnb tiene tres tipos de habitaciones: habitaciones compartidas, habitaciones privadas y casas o apartamentos completos \n",
    "\n",
    "\n",
    "- `airbnb_last_review.tsv`: Este es un archivo TSV que contiene datos sobre los nombres de los anfitriones de Airbnb y las fechas de revisión.  \n",
    "  1. `listing_id`: identificador único del anuncio  \n",
    "  2. `host_name`:  nombre del anfitrión del anuncio  \n",
    "  3. `last_review`: echa en la que se revisó el anuncio por última vez   "
   ]
  },
  {
   "cell_type": "markdown",
   "metadata": {
    "application/vnd.databricks.v1+cell": {
     "cellMetadata": {},
     "inputWidgets": {},
     "nuid": "bab5e15d-251d-4092-9ec3-61f8a0d84f43",
     "showTitle": false,
     "tableResultSettingsMap": {},
     "title": ""
    }
   },
   "source": [
    "Como consultor que trabaja para una empresa inmobiliaria emergente, ha recopilado datos de anuncios de Airbnb de varias fuentes para investigar el mercado de alquileres a corto plazo en Nueva York. Analizará estos datos para brindar información sobre habitaciones privadas a la empresa inmobiliaria."
   ]
  },
  {
   "cell_type": "markdown",
   "metadata": {
    "application/vnd.databricks.v1+cell": {
     "cellMetadata": {},
     "inputWidgets": {},
     "nuid": "3db66806-50c8-46b2-ab8b-fb66b3602f7d",
     "showTitle": false,
     "tableResultSettingsMap": {},
     "title": ""
    }
   },
   "source": [
    "- ¿Cuáles son las fechas de las primeras y las últimas reseñas? Almacene estos valores como dos variables independientes con los nombres que prefiera.\n",
    "- ¿Cuántos de los anuncios son habitaciones privadas? Guárdelo en cualquier variable.\n",
    "- ¿Cuál es el precio promedio de los anuncios? Redondee a los dos decimales más cercanos y guárdelo en una variable.\n",
    "- Combine las nuevas variables en un DataFrame llamado review_dates con cuatro columnas en el siguiente orden: first_reviewed, last_reviewed, nb_private_rooms y avg_price. El DataFrame solo debe contener una fila de valores."
   ]
  },
  {
   "cell_type": "code",
   "execution_count": 0,
   "metadata": {
    "application/vnd.databricks.v1+cell": {
     "cellMetadata": {
      "byteLimit": 2048000,
      "rowLimit": 10000
     },
     "inputWidgets": {},
     "nuid": "bc87f8df-a1fb-47d1-a2a4-54b38ad97511",
     "showTitle": false,
     "tableResultSettingsMap": {},
     "title": ""
    }
   },
   "outputs": [
    {
     "output_type": "stream",
     "name": "stdout",
     "output_type": "stream",
     "text": [
      "Airbnb price \n Row(listing_id='2595', price='225 dollars', nbhood_full='Manhattan, Midtown')\nairbnb room type \n Row(listing_id='2595', description='Skylit Midtown Castle', room_type='Entire home/apt')\nairbnb last review \n Row(listing_id='2595', host_name='Jennifer', last_review='May 21 2019')\n"
     ]
    }
   ],
   "source": [
    "airbnb_price = spark.read.option(\"header\", \"true\").csv(\"/FileStore/Notebook Examen/Caso3/airbnb_price.csv\", sep=\",\")\n",
    "airbnb_room_type = spark.read.option(\"header\", \"true\").csv(\"/FileStore/Notebook Examen/Caso3/airbnb_room_type.csv\")\n",
    "airbnb_last_review = spark.read.option(\"header\", \"true\").csv(\"/FileStore/Notebook Examen/Caso3/airbnb_last_review.tsv\", sep=\"\\t\")\n",
    "\n",
    "print(\"Airbnb price \\n\" , airbnb_price.head())\n",
    "print(\"airbnb room type \\n\" , airbnb_room_type.head())\n",
    "print(\"airbnb last review \\n\" , airbnb_last_review.head())"
   ]
  },
  {
   "cell_type": "code",
   "execution_count": 0,
   "metadata": {
    "application/vnd.databricks.v1+cell": {
     "cellMetadata": {
      "byteLimit": 2048000,
      "rowLimit": 10000
     },
     "inputWidgets": {},
     "nuid": "b40d3c60-882e-4083-b271-b5de98826a7d",
     "showTitle": false,
     "tableResultSettingsMap": {},
     "title": ""
    }
   },
   "outputs": [],
   "source": [
    "#fusionamos los Datframes\n",
    "airbnb_listings = airbnb_price.join(airbnb_room_type, \"listing_id\").join(airbnb_last_review, \"listing_id\")"
   ]
  },
  {
   "cell_type": "code",
   "execution_count": 0,
   "metadata": {
    "application/vnd.databricks.v1+cell": {
     "cellMetadata": {
      "byteLimit": 2048000,
      "rowLimit": 10000
     },
     "inputWidgets": {},
     "nuid": "2e573ea7-4d70-4113-a89f-061a0216bfeb",
     "showTitle": false,
     "tableResultSettingsMap": {},
     "title": ""
    }
   },
   "outputs": [
    {
     "output_type": "stream",
     "name": "stdout",
     "output_type": "stream",
     "text": [
      "Airbnb Listings:\n+----------+-----------+--------------------+--------------------+---------------+-----------+------------+\n|listing_id|      price|         nbhood_full|         description|      room_type|  host_name| last_review|\n+----------+-----------+--------------------+--------------------+---------------+-----------+------------+\n|      2595|225 dollars|  Manhattan, Midtown|Skylit Midtown Ca...|Entire home/apt|   Jennifer| May 21 2019|\n|      3831| 89 dollars|Brooklyn, Clinton...|Cozy Entire Floor...|Entire home/apt|LisaRoxanne|July 05 2019|\n|      5099|200 dollars|Manhattan, Murray...|Large Cozy 1 BR A...|Entire home/apt|      Chris|June 22 2019|\n|      5178| 79 dollars|Manhattan, Hell's...|Large Furnished R...|   private room|   Shunichi|June 24 2019|\n|      5238|150 dollars|Manhattan, Chinatown|Cute & Cozy Lower...|Entire home/apt|        Ben|June 09 2019|\n+----------+-----------+--------------------+--------------------+---------------+-----------+------------+\nonly showing top 5 rows\n\n"
     ]
    }
   ],
   "source": [
    "#Mostramos el Dataframe combinado\n",
    "print(\"Airbnb Listings:\")\n",
    "airbnb_listings.show(5)"
   ]
  },
  {
   "cell_type": "code",
   "execution_count": 0,
   "metadata": {
    "application/vnd.databricks.v1+cell": {
     "cellMetadata": {
      "byteLimit": 2048000,
      "rowLimit": 10000
     },
     "inputWidgets": {},
     "nuid": "e51fd33c-1408-4acf-9965-b2a83cbe3454",
     "showTitle": false,
     "tableResultSettingsMap": {},
     "title": ""
    }
   },
   "outputs": [
    {
     "output_type": "stream",
     "name": "stdout",
     "output_type": "stream",
     "text": [
      "DataFrame actualizado:\n+----------+-----+--------------------+--------------------+---------------+-----------+-----------+\n|listing_id|price|         nbhood_full|         description|      room_type|  host_name|last_review|\n+----------+-----+--------------------+--------------------+---------------+-----------+-----------+\n|      2595|  225|  Manhattan, Midtown|Skylit Midtown Ca...|entire home/apt|   Jennifer| 2019-05-21|\n|      3831|   89|Brooklyn, Clinton...|Cozy Entire Floor...|entire home/apt|LisaRoxanne| 2019-07-05|\n|      5099|  200|Manhattan, Murray...|Large Cozy 1 BR A...|entire home/apt|      Chris| 2019-06-22|\n|      5178|   79|Manhattan, Hell's...|Large Furnished R...|   private room|   Shunichi| 2019-06-24|\n|      5238|  150|Manhattan, Chinatown|Cute & Cozy Lower...|entire home/apt|        Ben| 2019-06-09|\n+----------+-----+--------------------+--------------------+---------------+-----------+-----------+\nonly showing top 5 rows\n\n"
     ]
    }
   ],
   "source": [
    "from pyspark.sql.functions import col, lower, regexp_replace, to_date\n",
    "\n",
    "# Actualizamos las columnas y corregimos los problemas\n",
    "airbnb_listings = (\n",
    "    airbnb_listings\n",
    "    .withColumn(\"price\", regexp_replace(col(\"price\"), \" dollars\", \"\").cast(\"int\"))  # Eliminar \" dollars\" y convertir a entero\n",
    "    .withColumn(\"room_type\", lower(col(\"room_type\")))  # Convertir a minúsculas\n",
    "    .withColumn(\"last_review\", to_date(col(\"last_review\"), \"MMMM dd yyyy\"))  # Corregir nombre de columna y convertir a fecha\n",
    ")\n",
    "\n",
    "# Mostrar DataFrame actualizado\n",
    "print(\"DataFrame actualizado:\")\n",
    "airbnb_listings.show(5)\n"
   ]
  },
  {
   "cell_type": "markdown",
   "metadata": {
    "application/vnd.databricks.v1+cell": {
     "cellMetadata": {},
     "inputWidgets": {},
     "nuid": "1d03b671-acf2-4ce3-89c6-053c420656d2",
     "showTitle": false,
     "tableResultSettingsMap": {},
     "title": ""
    }
   },
   "source": [
    "* Fechas de las primeras y ultimas reseñas"
   ]
  },
  {
   "cell_type": "code",
   "execution_count": 0,
   "metadata": {
    "application/vnd.databricks.v1+cell": {
     "cellMetadata": {
      "byteLimit": 2048000,
      "rowLimit": 10000
     },
     "inputWidgets": {},
     "nuid": "965b2c38-5ed6-450a-8a9b-9c438fa73679",
     "showTitle": false,
     "tableResultSettingsMap": {},
     "title": ""
    }
   },
   "outputs": [
    {
     "output_type": "stream",
     "name": "stdout",
     "output_type": "stream",
     "text": [
      "Las reseñas mas antiguas y recientes fueron el 2019-01-01 y  2019-07-09.\n"
     ]
    }
   ],
   "source": [
    "from pyspark.sql.functions import col, lower, regexp_replace, to_date, min, max, avg\n",
    "#obtenemos los valores minimos y maximos de las last_review\n",
    "firts_reviewed = airbnb_listings.agg(min(\"last_review\").alias(\"firts_reviewed\")).collect()[0][\"firts_reviewed\"]\n",
    "last_reviewed = airbnb_listings.agg(max(\"last_review\").alias(\"last_reviewed\")).collect()[0][\"last_reviewed\"]\n",
    "\n",
    "print(f\"Las reseñas mas antiguas y recientes fueron el {firts_reviewed} y  {last_reviewed}.\")"
   ]
  },
  {
   "cell_type": "markdown",
   "metadata": {
    "application/vnd.databricks.v1+cell": {
     "cellMetadata": {},
     "inputWidgets": {},
     "nuid": "d3d3f4e9-485a-4ce6-8190-e2c4479fc9a0",
     "showTitle": false,
     "tableResultSettingsMap": {},
     "title": ""
    }
   },
   "source": [
    "* Count de habitaciones privadas"
   ]
  },
  {
   "cell_type": "code",
   "execution_count": 0,
   "metadata": {
    "application/vnd.databricks.v1+cell": {
     "cellMetadata": {
      "byteLimit": 2048000,
      "rowLimit": 10000
     },
     "inputWidgets": {},
     "nuid": "726e7d6a-8c7a-4cc5-bd20-f84b374afc00",
     "showTitle": false,
     "tableResultSettingsMap": {},
     "title": ""
    }
   },
   "outputs": [
    {
     "output_type": "stream",
     "name": "stdout",
     "output_type": "stream",
     "text": [
      "De todas las ofertas, 1942 son habitaciones privadas.\n"
     ]
    }
   ],
   "source": [
    "#filtramos las filas donde room_type es \"private room\" y con el count contamos el numero de filas \n",
    "nb_private_rooms = airbnb_listings.filter(col(\"room_type\") == \"private room\").count()\n",
    "print(f\"De todas las ofertas, {bnb_private_rooms} son habitaciones privadas.\")\n"
   ]
  },
  {
   "cell_type": "markdown",
   "metadata": {
    "application/vnd.databricks.v1+cell": {
     "cellMetadata": {},
     "inputWidgets": {},
     "nuid": "8ba576dd-4687-4ebd-a540-58267fbc2628",
     "showTitle": false,
     "tableResultSettingsMap": {},
     "title": ""
    }
   },
   "source": [
    "* Precio promedio de los anuncios"
   ]
  },
  {
   "cell_type": "code",
   "execution_count": 0,
   "metadata": {
    "application/vnd.databricks.v1+cell": {
     "cellMetadata": {
      "byteLimit": 2048000,
      "rowLimit": 10000
     },
     "inputWidgets": {},
     "nuid": "2955fdcd-b576-4717-a1c8-96dd1d07323c",
     "showTitle": false,
     "tableResultSettingsMap": {},
     "title": ""
    }
   },
   "outputs": [
    {
     "output_type": "stream",
     "name": "stdout",
     "output_type": "stream",
     "text": [
      "El precio promedio de los anuncios es 143.28 USD.\n"
     ]
    }
   ],
   "source": [
    "#con avg calcular la media del precio y luego en el print con round redondeamos 2 decimales\n",
    "avg_price = airbnb_listings.agg(avg(\"price\").alias(\"avg_price\")).collect()[0][\"avg_price\"]\n",
    "print(f\"El precio promedio de los anuncios es {round(avg_price, 2)} USD.\")\n"
   ]
  },
  {
   "cell_type": "markdown",
   "metadata": {
    "application/vnd.databricks.v1+cell": {
     "cellMetadata": {},
     "inputWidgets": {},
     "nuid": "f19e6c27-9600-459a-9d82-ef4693ae2867",
     "showTitle": false,
     "tableResultSettingsMap": {},
     "title": ""
    }
   },
   "source": [
    "* Crear un nuevo DataFrame con los resultados combinados"
   ]
  },
  {
   "cell_type": "code",
   "execution_count": 0,
   "metadata": {
    "application/vnd.databricks.v1+cell": {
     "cellMetadata": {
      "byteLimit": 2048000,
      "rowLimit": 10000
     },
     "inputWidgets": {},
     "nuid": "ea6d0a80-530a-4baa-bcab-6fbb2039ea5b",
     "showTitle": false,
     "tableResultSettingsMap": {},
     "title": ""
    }
   },
   "outputs": [
    {
     "output_type": "stream",
     "name": "stdout",
     "output_type": "stream",
     "text": [
      "Nuevo DataFrame con resultados combinados:\n+--------------+-------------+----------------+---------+\n|firts_reviewed|last_reviewed|nb_private_rooms|avg_price|\n+--------------+-------------+----------------+---------+\n|    2019-01-01|   2019-07-09|            1942|   143.28|\n+--------------+-------------+----------------+---------+\n\n"
     ]
    }
   ],
   "source": [
    "\n",
    "review_dates = spark.createDataFrame(\n",
    "   [(firts_reviewed, last_reviewed, nb_private_rooms, round(avg_price, 2))],\n",
    "   [\"firts_reviewed\", \"last_reviewed\", \"nb_private_rooms\", \"avg_price\"]\n",
    ")\n",
    "print(\"Nuevo DataFrame con resultados combinados:\")\n",
    "review_dates.show()"
   ]
  }
 ],
 "metadata": {
  "application/vnd.databricks.v1+notebook": {
   "dashboards": [],
   "environmentMetadata": null,
   "language": "python",
   "notebookMetadata": {
    "pythonIndentUnit": 4
   },
   "notebookName": "Caso_3",
   "widgets": {}
  }
 },
 "nbformat": 4,
 "nbformat_minor": 0
}

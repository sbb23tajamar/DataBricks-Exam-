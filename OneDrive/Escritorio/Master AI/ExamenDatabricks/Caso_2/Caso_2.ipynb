{
 "cells": [
  {
   "cell_type": "markdown",
   "metadata": {
    "application/vnd.databricks.v1+cell": {
     "cellMetadata": {},
     "inputWidgets": {},
     "nuid": "7bc88472-0819-44bb-a870-05c265cca4c5",
     "showTitle": false,
     "tableResultSettingsMap": {},
     "title": ""
    }
   },
   "source": [
    "# Encontrando insights de la UEFA Champions League"
   ]
  },
  {
   "cell_type": "markdown",
   "metadata": {
    "application/vnd.databricks.v1+cell": {
     "cellMetadata": {},
     "inputWidgets": {},
     "nuid": "dec9c196-3f29-444f-a2f7-13e3827b29ef",
     "showTitle": false,
     "tableResultSettingsMap": {},
     "title": ""
    }
   },
   "source": [
    "La Liga de Campeones de la UEFA, a menudo llamada Liga de Campeones, es una competencia anual de fútbol por excelencia que cautiva a los fanáticos de todo el mundo. Establecida en 1955 como la Copa de Clubes Campeones de Europa, evolucionó a la Liga de Campeones de la UEFA en 1992, ampliando su atractivo. El formato moderno cuenta con 32 equipos de clubes de primer nivel seleccionados en función de su desempeño en la liga nacional, lo que aumenta la intriga.  \n",
    "\n",
    "Este evento electrizante trasciende los deportes y se convierte en una celebración de la unidad, la cultura y el orgullo nacional. Los fanáticos, vestidos con los colores de sus países, crean una atmósfera eléctrica, lo que hace que el torneo sea tanto sobre los espectadores como sobre los jugadores. Financieramente, la Liga de Campeones es un salvavidas para los clubes, ya que aumenta los ingresos y ofrece oportunidades transformadoras. Sin embargo, genera debates sobre las disparidades de riqueza en el fútbol europeo.  \n",
    "\n",
    "La Liga de Campeones es sinónimo de rivalidades históricas, triunfos de los desvalidos y brillantez individual. Para los jugadores, representa la cima de su carrera, mientras que para los fanáticos, es un fenómeno cultural. El himno y los rituales icónicos enriquecen la experiencia futbolística. En 200 palabras, la UEFA Champions League es el epítome de la excelencia del fútbol europeo, que ofrece momentos inolvidables, recompensas económicas y un impacto cultural único, con 32 clubes de primer nivel que se suman a su atractivo."
   ]
  },
  {
   "cell_type": "markdown",
   "metadata": {
    "application/vnd.databricks.v1+cell": {
     "cellMetadata": {},
     "inputWidgets": {},
     "nuid": "3ff8fe53-6686-4ae2-8c5b-662e85535ff5",
     "showTitle": false,
     "tableResultSettingsMap": {},
     "title": ""
    }
   },
   "source": [
    "**Nombres de las tablas o ficheros a utilizar**:  \n",
    "[uefa_2020.csv](https://tajamar365.sharepoint.com/:x:/s/3405-MasterIA2024-2025/EQuW8d16tZJKpYZN6jR480sBgc1IYypAw9hGHKQARS560g?e=7TybBU)  \n",
    "[uefa_2021.csv](https://tajamar365.sharepoint.com/:x:/s/3405-MasterIA2024-2025/ESG8YBrjD3tBky3aGT0MwIABNt_PQxFVVYVlWMnZYUmV8g?e=VrYHtX)  \n",
    "[uefa_2022.csv](https://tajamar365.sharepoint.com/:x:/s/3405-MasterIA2024-2025/Ecf8O8U8sxJLoW9Bkd2ZVzgBb_gZc35mNcprnR9FMlzliQ?e=Vn3a6v)  \n",
    "- Todas las tablas tienen las mismas columnas y data types"
   ]
  },
  {
   "cell_type": "markdown",
   "metadata": {
    "application/vnd.databricks.v1+cell": {
     "cellMetadata": {},
     "inputWidgets": {},
     "nuid": "910b06ac-21ef-4f0c-bb95-9611f90d7635",
     "showTitle": false,
     "tableResultSettingsMap": {},
     "title": ""
    }
   },
   "source": [
    "| Column | Definition | Data type |\n",
    "|--------|------------|-----------|\n",
    "| `STAGE`| Stage of the March | `VARCHAR(50)` |\n",
    "| `DATE` | When the match occurred. | `DATE` |\n",
    "| `PENS` | Did the match end with penalty | `VARCHAR(50)` |\n",
    "| `PENS_HOME_SCORE` | In case of penalty, score by home team | `VARCHAR(50)` |\n",
    "| `PENS_AWAY_SCORE` | In case of penalty, score by away team | `VARCHAR(50)` |\n",
    "| `TEAM_NAME_HOME` | Team home name | `VARCHAR(50)` |\n",
    "| `TEAM_NAME_AWAY`| Team away  name | `VARCHAR(50)` |\n",
    "| `TEAM_HOME_SCORE` | Team home score | `NUMBER` |\n",
    "| `TEAM_AWAY_SCORE` | Team away score | `NUMBER` |\n",
    "| `POSSESSION_HOME` | Ball possession for the home team | `FLOAT` |\n",
    "| `POSSESSION_AWAY` | Ball possession for the away team | `FLOAT` |\n",
    "| `TOTAL_SHOTS_HOME` | Number of shots by the home team | `NUMBER` |\n",
    "| `TOTAL_SHOTS_AWAY` | Number of shots by the away team | `NUMBER`\n",
    "| `SHOTS_ON_TARGET_HOME` | Total shot for home team | `FLOAT` |\n",
    "| `SHOTS_ON_TARGET_AWAY` | Total shot for away team | `FLOAT` |\n",
    "| `DUELS_WON_HOME` | duel win possession of ball - for home team | `NUMBER` |\n",
    "| `DUELS_WON_AWAY` | duel win possession of ball - for away team | `NUMBER` \n",
    "| `PREDICTION_TEAM_HOME_WIN` | Probability of home team to win | `FLOAT` |\n",
    "| `PREDICTION_DRAW` | Probability of draw | `FLOAT` |\n",
    "| `PREDICTION_TEAM_AWAY_WIN` | Probability of away team to win | `FLOAT` |\n",
    "| `LOCATION` | Stadium where the match was held | `VARCHAR(50)` |"
   ]
  },
  {
   "cell_type": "markdown",
   "metadata": {
    "application/vnd.databricks.v1+cell": {
     "cellMetadata": {},
     "inputWidgets": {},
     "nuid": "b6ed3067-8a31-45a7-9120-766336560fef",
     "showTitle": false,
     "tableResultSettingsMap": {},
     "title": ""
    }
   },
   "source": [
    "### Requerimientos:  \n",
    "-Puedes utilizar SQL o PySpark"
   ]
  },
  {
   "cell_type": "markdown",
   "metadata": {
    "application/vnd.databricks.v1+cell": {
     "cellMetadata": {},
     "inputWidgets": {},
     "nuid": "96872dad-7ed6-4372-84e9-763aa2d6c83f",
     "showTitle": false,
     "tableResultSettingsMap": {},
     "title": ""
    }
   },
   "source": [
    "1. Encuentra los 3 equipos que anotaron más goles jugando en su estadio en la UEFA Champions League 2020-21. El resultado debe contener dos columnas: TEAM_NAME_HOME y TEAM_HOME_SCORE ordenadas en orden descendente de TEAM_HOME_SCORE. Guarda la consulta (o el notebook) como TEAM_HOME_WITH_MOST_GOALS."
   ]
  },
  {
   "cell_type": "code",
   "execution_count": 0,
   "metadata": {
    "application/vnd.databricks.v1+cell": {
     "cellMetadata": {
      "byteLimit": 2048000,
      "rowLimit": 10000
     },
     "inputWidgets": {},
     "nuid": "aafbbf3e-e039-4889-8d83-eb94d181a33a",
     "showTitle": false,
     "tableResultSettingsMap": {},
     "title": ""
    }
   },
   "outputs": [
    {
     "output_type": "stream",
     "name": "stdout",
     "output_type": "stream",
     "text": [
      "+------------------------+------------+-----+---------------+---------------+-----------------+-----------------+---------------+---------------+---------------+---------------+----------------+----------------+--------------------+--------------------+--------------+--------------+------------------------+---------------+------------------------+--------------------+\n|STAGE                   |DATE        |PENS |PENS_HOME_SCORE|PENS_AWAY_SCORE|TEAM_NAME_HOME   |TEAM_NAME_AWAY   |TEAM_HOME_SCORE|TEAM_AWAY_SCORE|POSSESSION_HOME|POSSESSION_AWAY|TOTAL_SHOTS_HOME|TOTAL_SHOTS_AWAY|SHOTS_ON_TARGET_HOME|SHOTS_ON_TARGET_AWAY|DUELS_WON_HOME|DUELS_WON_AWAY|PREDICTION_TEAM_HOME_WIN|PREDICTION_DRAW|PREDICTION_TEAM_AWAY_WIN|LOCATION            |\n+------------------------+------------+-----+---------------+---------------+-----------------+-----------------+---------------+---------------+---------------+---------------+----------------+----------------+--------------------+--------------------+--------------+--------------+------------------------+---------------+------------------------+--------------------+\n| Final                  | 29-05-2021 |FALSE|FALSE          |FALSE          | Manchester City | Chelsea         |0              |1              |61%            |39%            |7               |8               |1                   |2                   |50%           |50%           |55%                     |3%             |42%                     | Estádio Do Dragão  |\n| Semi-finals second leg | 05-05-2021 |FALSE|FALSE          |FALSE          | Chelsea         | Real Madrid     |2              |0              |32%            |68%            |15              |7               |5                   |5                   |52%           |49%           |43%                     |3%             |54%                     | Stamford Bridge    |\n| Semi-finals second leg | 04-05-2021 |FALSE|FALSE          |FALSE          | Manchester City | PSG             |2              |0              |44%            |56%            |12              |14              |5                   |0                   |53%           |47%           |44%                     |3%             |53%                     | Etihad Stadium     |\n| Semi-finals first leg  | 28-04-2021 |FALSE|FALSE          |FALSE          | PSG             | Manchester City |1              |2              |40%            |60%            |10              |11              |4                   |6                   |47%           |53%           |65%                     |4%             |31%                     | Parc des Princes   |\n| Semi-finals first leg  | 27-04-2021 |FALSE|FALSE          |FALSE          | Real Madrid     | Chelsea         |1              |1              |51%            |49%            |9               |11              |1                   |5                   |49%           |52%           |61%                     |4%             |35%                     | Alfredo Di Stéfano |\n+------------------------+------------+-----+---------------+---------------+-----------------+-----------------+---------------+---------------+---------------+---------------+----------------+----------------+--------------------+--------------------+--------------+--------------+------------------------+---------------+------------------------+--------------------+\nonly showing top 5 rows\n\n"
     ]
    }
   ],
   "source": [
    "# Cargar el archivo CSV\n",
    "df_2020_21 = spark.read.option(\"header\", \"true\").csv(\"/FileStore/Notebook Examen/Caso2/uefa_2020.csv\")\n",
    "\n",
    "# Verificar las primeras filas del DataFrame\n",
    "df_2020_21.show(5 , truncate = False)"
   ]
  },
  {
   "cell_type": "markdown",
   "metadata": {
    "application/vnd.databricks.v1+cell": {
     "cellMetadata": {},
     "inputWidgets": {},
     "nuid": "3999c1a4-dcf1-4cf8-ab6f-2c07e5dda243",
     "showTitle": false,
     "tableResultSettingsMap": {},
     "title": ""
    }
   },
   "source": [
    "* Filtramos los partidos jugados en casa"
   ]
  },
  {
   "cell_type": "code",
   "execution_count": 0,
   "metadata": {
    "application/vnd.databricks.v1+cell": {
     "cellMetadata": {
      "byteLimit": 2048000,
      "rowLimit": 10000
     },
     "inputWidgets": {},
     "nuid": "43bf8906-0dc3-4320-b162-1a155de37660",
     "showTitle": false,
     "tableResultSettingsMap": {},
     "title": ""
    }
   },
   "outputs": [
    {
     "output_type": "stream",
     "name": "stdout",
     "output_type": "stream",
     "text": [
      "+--------------------+------------+-----+---------------+---------------+-----------------+-----------------+---------------+---------------+---------------+---------------+----------------+----------------+--------------------+--------------------+--------------+--------------+------------------------+---------------+------------------------+--------------------+\n|               STAGE|        DATE| PENS|PENS_HOME_SCORE|PENS_AWAY_SCORE|   TEAM_NAME_HOME|   TEAM_NAME_AWAY|TEAM_HOME_SCORE|TEAM_AWAY_SCORE|POSSESSION_HOME|POSSESSION_AWAY|TOTAL_SHOTS_HOME|TOTAL_SHOTS_AWAY|SHOTS_ON_TARGET_HOME|SHOTS_ON_TARGET_AWAY|DUELS_WON_HOME|DUELS_WON_AWAY|PREDICTION_TEAM_HOME_WIN|PREDICTION_DRAW|PREDICTION_TEAM_AWAY_WIN|            LOCATION|\n+--------------------+------------+-----+---------------+---------------+-----------------+-----------------+---------------+---------------+---------------+---------------+----------------+----------------+--------------------+--------------------+--------------+--------------+------------------------+---------------+------------------------+--------------------+\n|              Final | 29-05-2021 |FALSE|          FALSE|          FALSE| Manchester City |         Chelsea |              0|              1|            61%|            39%|               7|               8|                   1|                   2|           50%|           50%|                     55%|             3%|                     42%|  Estádio Do Dragão |\n| Semi-finals seco...| 05-05-2021 |FALSE|          FALSE|          FALSE|         Chelsea |     Real Madrid |              2|              0|            32%|            68%|              15|               7|                   5|                   5|           52%|           49%|                     43%|             3%|                     54%|    Stamford Bridge |\n| Semi-finals seco...| 04-05-2021 |FALSE|          FALSE|          FALSE| Manchester City |             PSG |              2|              0|            44%|            56%|              12|              14|                   5|                   0|           53%|           47%|                     44%|             3%|                     53%|     Etihad Stadium |\n| Semi-finals firs...| 28-04-2021 |FALSE|          FALSE|          FALSE|             PSG | Manchester City |              1|              2|            40%|            60%|              10|              11|                   4|                   6|           47%|           53%|                     65%|             4%|                     31%|   Parc des Princes |\n| Semi-finals firs...| 27-04-2021 |FALSE|          FALSE|          FALSE|     Real Madrid |         Chelsea |              1|              1|            51%|            49%|               9|              11|                   1|                   5|           49%|           52%|                     61%|             4%|                     35%| Alfredo Di Stéfano |\n+--------------------+------------+-----+---------------+---------------+-----------------+-----------------+---------------+---------------+---------------+---------------+----------------+----------------+--------------------+--------------------+--------------+--------------+------------------------+---------------+------------------------+--------------------+\nonly showing top 5 rows\n\n"
     ]
    }
   ],
   "source": [
    "# Filtrar los partidos jugados en casa, donde TEAM_NAME_HOME no está nulo ni vacío\n",
    "df_2021_home = df_2020_21.filter((df_2020_21[\"TEAM_NAME_HOME\"].isNotNull()) & (df_2020_21[\"TEAM_NAME_HOME\"] != \"\"))\n",
    "\n",
    "# Mostrar las primeras filas para verificar\n",
    "df_2021_home.show(5)\n"
   ]
  },
  {
   "cell_type": "markdown",
   "metadata": {
    "application/vnd.databricks.v1+cell": {
     "cellMetadata": {
      "byteLimit": 2048000,
      "rowLimit": 10000
     },
     "inputWidgets": {},
     "nuid": "a8afd7b3-760c-4387-88e8-2e298d62f926",
     "showTitle": false,
     "tableResultSettingsMap": {},
     "title": ""
    }
   },
   "source": [
    "* Agrupos por equipo local y sumamos los goles"
   ]
  },
  {
   "cell_type": "code",
   "execution_count": 0,
   "metadata": {
    "application/vnd.databricks.v1+cell": {
     "cellMetadata": {
      "byteLimit": 2048000,
      "rowLimit": 10000
     },
     "inputWidgets": {},
     "nuid": "20b99c70-8f12-489f-8ebf-c10b8793e45d",
     "showTitle": false,
     "tableResultSettingsMap": {},
     "title": ""
    }
   },
   "outputs": [
    {
     "output_type": "stream",
     "name": "stdout",
     "output_type": "stream",
     "text": [
      "+-----------------+--------------------+\n|   TEAM_NAME_HOME|sum(TEAM_HOME_SCORE)|\n+-----------------+--------------------+\n| Manchester City |                  15|\n|     Real Madrid |                  14|\n|   Bayern Munich |                  13|\n+-----------------+--------------------+\n\n"
     ]
    }
   ],
   "source": [
    "# Convertir la columna TEAM_HOME_SCORE a tipo numérico\n",
    "from pyspark.sql.functions import col\n",
    "\n",
    "df_2020_21 = df_2020_21.withColumn(\"TEAM_HOME_SCORE\", col(\"TEAM_HOME_SCORE\").cast(\"int\"))\n",
    "\n",
    "# Agrupar por equipo de casa y sumar los goles anotados\n",
    "result = df_2020_21.groupBy(\"TEAM_NAME_HOME\").sum(\"TEAM_HOME_SCORE\")\n",
    "\n",
    "# Ordenar de forma descendente por el total de goles anotados\n",
    "result = result.orderBy(col(\"sum(TEAM_HOME_SCORE)\").desc())\n",
    "\n",
    "# Seleccionar los 3 equipos con más goles\n",
    "top_3_teams = result.limit(3)\n",
    "\n",
    "top_3_teams.show()\n",
    "\n",
    "top_3_teams.createOrReplaceTempView(\"TEAM_HOME_WITH_MOST_GOALS\")\n"
   ]
  },
  {
   "cell_type": "markdown",
   "metadata": {
    "application/vnd.databricks.v1+cell": {
     "cellMetadata": {},
     "inputWidgets": {},
     "nuid": "b375e92e-5c96-4ee8-8c35-29b8e7ab887f",
     "showTitle": false,
     "tableResultSettingsMap": {},
     "title": ""
    }
   },
   "source": [
    "2. Encuentra el equipo con posesión mayoritaria la mayor cantidad de veces durante la UEFA Champions League 2021-22. El resultado debe incluir dos columnas: TEAM_NAME y GAME_COUNT, que es la cantidad de veces que el equipo tuvo posesión mayoritaria durante un partido de fútbol. Guarda esta consulta (o el notebook) como TEAM_WITH_MAJORITY_POSSESSION"
   ]
  },
  {
   "cell_type": "markdown",
   "metadata": {
    "application/vnd.databricks.v1+cell": {
     "cellMetadata": {},
     "inputWidgets": {},
     "nuid": "169f01b4-b77f-4b68-bdd6-206defbbd854",
     "showTitle": false,
     "tableResultSettingsMap": {},
     "title": ""
    }
   },
   "source": [
    "* Filtramos los partidos donde un equipo tuvo la posesión mayoritaria"
   ]
  },
  {
   "cell_type": "code",
   "execution_count": 0,
   "metadata": {
    "application/vnd.databricks.v1+cell": {
     "cellMetadata": {
      "byteLimit": 2048000,
      "rowLimit": 10000
     },
     "inputWidgets": {},
     "nuid": "b7f1305f-20f4-4af0-ac61-dc9a840fafd1",
     "showTitle": false,
     "tableResultSettingsMap": {},
     "title": ""
    }
   },
   "outputs": [
    {
     "output_type": "stream",
     "name": "stdout",
     "output_type": "stream",
     "text": [
      "+--------------------+--------+-----+---------------+---------------+------------------+--------------+---------------+---------------+---------------+---------------+----------------+----------------+--------------------+--------------------+--------------+--------------+------------------------+---------------+------------------------+--------------------+\n|               STAGE|    DATE| PENS|PENS_HOME_SCORE|PENS_AWAY_SCORE|    TEAM_NAME_HOME|TEAM_NAME_AWAY|TEAM_HOME_SCORE|TEAM_AWAY_SCORE|POSSESSION_HOME|POSSESSION_AWAY|TOTAL_SHOTS_HOME|TOTAL_SHOTS_AWAY|SHOTS_ON_TARGET_HOME|SHOTS_ON_TARGET_AWAY|DUELS_WON_HOME|DUELS_WON_AWAY|PREDICTION_TEAM_HOME_WIN|PREDICTION_DRAW|PREDICTION_TEAM_AWAY_WIN|            LOCATION|\n+--------------------+--------+-----+---------------+---------------+------------------+--------------+---------------+---------------+---------------+---------------+----------------+----------------+--------------------+--------------------+--------------+--------------+------------------------+---------------+------------------------+--------------------+\n| Semi-finals seco...|05-05-22|FALSE|          FALSE|          FALSE|       Real Madrid|      Man City|              3|              1|            44%|            56%|              14|              15|                   5|                  10|           47%|           53%|                     49%|             10|                     51%|   Santiago Bernabeu|\n| Semi-finals seco...|04-05-22|FALSE|          FALSE|          FALSE|        Villarreal|     Liverpool|              2|              3|            44%|            56%|               6|              15|                   2|                   5|           49%|           51%|                     49%|              4|                     51%|         El Madrigal|\n| Semi-finals firs...|28-04-22|FALSE|          FALSE|          FALSE|         Liverpool|    Villarreal|              2|              0|            74%|            26%|              19|               1|                   5|                   0|           41%|           59%|                     50%|              4|                     50%|             Anfield|\n| Semi-finals firs...|27-04-22|FALSE|          FALSE|          FALSE|          Man City|   Real Madrid|              4|              3|            60%|            40%|              16|              11|                   6|                   5|           46%|           54%|                     48%|              5|                     52%|              Etihad|\n| Quarter-finals s...|14-04-22|FALSE|          FALSE|          FALSE|Atl�tico de Madrid|      Man City|              0|              0|            39%|            61%|              14|              10|                   3|                   1|           49%|           51%|                     45%|              8|                     55%|Civitas Metropoli...|\n+--------------------+--------+-----+---------------+---------------+------------------+--------------+---------------+---------------+---------------+---------------+----------------+----------------+--------------------+--------------------+--------------+--------------+------------------------+---------------+------------------------+--------------------+\nonly showing top 5 rows\n\n"
     ]
    }
   ],
   "source": [
    "from pyspark.sql.functions import col, when\n",
    "\n",
    "# Cargar el archivo de la temporada 2021-22 (asumiendo que el nombre del archivo es uefa_2022.csv)\n",
    "df_2021_22 = spark.read.option(\"header\", \"true\").csv(\"/FileStore/Notebook Examen/Caso2/uefa_2021.csv\")\n",
    "\n",
    "# Filtrar los partidos donde un equipo tuvo posesión mayoritaria\n",
    "df_2021_22_majority_possession = df_2021_22.filter(\n",
    "    (col(\"POSSESSION_HOME\") > col(\"POSSESSION_AWAY\")) | \n",
    "    (col(\"POSSESSION_AWAY\") > col(\"POSSESSION_HOME\"))\n",
    ")\n",
    "\n",
    "# Mostrar las primeras filas para verificar\n",
    "df_2021_22_majority_possession.show(5)"
   ]
  },
  {
   "cell_type": "markdown",
   "metadata": {
    "application/vnd.databricks.v1+cell": {
     "cellMetadata": {},
     "inputWidgets": {},
     "nuid": "9cc1618c-072e-4083-b2ba-d2ed53db3f12",
     "showTitle": false,
     "tableResultSettingsMap": {},
     "title": ""
    }
   },
   "source": [
    "* Contar cuántas veces cada equipo tuvo posesión mayoritaria"
   ]
  },
  {
   "cell_type": "code",
   "execution_count": 0,
   "metadata": {
    "application/vnd.databricks.v1+cell": {
     "cellMetadata": {
      "byteLimit": 2048000,
      "rowLimit": 10000
     },
     "inputWidgets": {},
     "nuid": "f6d907fc-8dd4-4d55-b626-f2414b17cd04",
     "showTitle": false,
     "tableResultSettingsMap": {},
     "title": ""
    }
   },
   "outputs": [],
   "source": [
    "# Crear una nueva columna que indique qué equipo tuvo la posesión mayoritaria en cada partido\n",
    "df_2021_22 = df_2021_22.withColumn(\n",
    "    \"TEAM_WITH_MAJORITY_POSSESSION\",\n",
    "    when(col(\"POSSESSION_HOME\") > col(\"POSSESSION_AWAY\"), col(\"TEAM_NAME_HOME\"))\n",
    "    .when(col(\"POSSESSION_AWAY\") > col(\"POSSESSION_HOME\"), col(\"TEAM_NAME_AWAY\"))\n",
    "    .otherwise(None)  # Si tienen la misma posesión, no consideramos ninguno\n",
    ")\n",
    "\n",
    "# Contar cuántas veces cada equipo tuvo posesión mayoritaria\n",
    "team_possession_count = df_2021_22.groupBy(\"TEAM_WITH_MAJORITY_POSSESSION\").count()\n",
    "\n",
    "# Renombrar la columna \"count\" a \"GAME_COUNT\" para que sea más claro\n",
    "team_possession_count = team_possession_count.withColumnRenamed(\"count\", \"GAME_COUNT\")\n"
   ]
  },
  {
   "cell_type": "markdown",
   "metadata": {
    "application/vnd.databricks.v1+cell": {
     "cellMetadata": {},
     "inputWidgets": {},
     "nuid": "247bb95d-681c-45c9-9901-a6fcd3aef577",
     "showTitle": false,
     "tableResultSettingsMap": {},
     "title": ""
    }
   },
   "source": [
    "* Agrupar por equipo y contar las veces que tuvieron posesión mayoritaria"
   ]
  },
  {
   "cell_type": "code",
   "execution_count": 0,
   "metadata": {
    "application/vnd.databricks.v1+cell": {
     "cellMetadata": {
      "byteLimit": 2048000,
      "rowLimit": 10000
     },
     "inputWidgets": {},
     "nuid": "eb9b9abb-62e3-49e6-a9a9-4f8d09ba98be",
     "showTitle": false,
     "tableResultSettingsMap": {},
     "title": ""
    }
   },
   "outputs": [
    {
     "output_type": "stream",
     "name": "stdout",
     "output_type": "stream",
     "text": [
      "+-----------------------------+----------+\n|TEAM_WITH_MAJORITY_POSSESSION|GAME_COUNT|\n+-----------------------------+----------+\n|                    Liverpool|         9|\n|                     Man City|         7|\n|                       Bayern|         7|\n|                         Ajax|         6|\n|                      Chelsea|         6|\n|                        Paris|         5|\n|                   Man United|         5|\n|                     Juventus|         5|\n|                  Real Madrid|         4|\n|                    Wolfsburg|         4|\n|             Shakhtar Donetsk|         3|\n|                   Villarreal|         3|\n|                        Milan|         3|\n|                        Zenit|         3|\n|                     FC Porto|         3|\n|                   Young Boys|         3|\n|                     Atalanta|         3|\n|                      Leipzig|         3|\n|                     Besiktas|         2|\n|                        Lille|         2|\n+-----------------------------+----------+\nonly showing top 20 rows\n\n"
     ]
    }
   ],
   "source": [
    "# Ordenar por el número de veces que el equipo tuvo posesión mayoritaria, de mayor a menor\n",
    "team_possession_count = team_possession_count.orderBy(col(\"GAME_COUNT\").desc())\n",
    "\n",
    "# Filtrar los equipos que realmente tuvieron alguna posesión mayoritaria\n",
    "team_possession_count = team_possession_count.filter(col(\"TEAM_WITH_MAJORITY_POSSESSION\").isNotNull())\n",
    "\n",
    "# Mostrar el resultado\n",
    "team_possession_count.show()\n",
    "\n",
    "# Guardar la consulta como una tabla temporal o permanente\n",
    "team_possession_count.createOrReplaceTempView(\"TEAM_WITH_MAJORITY_POSSESSION\")"
   ]
  },
  {
   "cell_type": "markdown",
   "metadata": {
    "application/vnd.databricks.v1+cell": {
     "cellMetadata": {},
     "inputWidgets": {},
     "nuid": "7c960a38-f12d-4b88-aaad-b70de0c2323f",
     "showTitle": false,
     "tableResultSettingsMap": {},
     "title": ""
    }
   },
   "source": [
    "3. Encuentra la lista de equipos de cada fase del juego que ganaron el duelo en un partido pero terminaron perdiendo el juego en el Campeonato de la UEFA 2022-23. El resultado debe contener dos columnas: STAGE y TEAM_LOST. Guarda la consulta (o el notebook) como TEAM_WON_DUEL_LOST_GAME_STAGE_WISE."
   ]
  },
  {
   "cell_type": "markdown",
   "metadata": {
    "application/vnd.databricks.v1+cell": {
     "cellMetadata": {},
     "inputWidgets": {},
     "nuid": "d80eb503-3488-4731-8fa3-480beafbdb47",
     "showTitle": false,
     "tableResultSettingsMap": {},
     "title": ""
    }
   },
   "source": [
    "* Cargar los datos y verificación de las columnas"
   ]
  },
  {
   "cell_type": "code",
   "execution_count": 0,
   "metadata": {
    "application/vnd.databricks.v1+cell": {
     "cellMetadata": {
      "byteLimit": 2048000,
      "rowLimit": 10000
     },
     "inputWidgets": {},
     "nuid": "5b5a904a-58be-4e45-8a29-d16b3b8fa65f",
     "showTitle": false,
     "tableResultSettingsMap": {},
     "title": ""
    }
   },
   "outputs": [],
   "source": [
    "from pyspark.sql.functions import col, when\n",
    "\n",
    "# Cargar el archivo de la temporada 2022-23 (asumiendo que el nombre del archivo es uefa_2023.csv)\n",
    "df_2022_23 = spark.read.option(\"header\", \"true\").csv(\"/FileStore/Notebook Examen/Caso2/uefa_2022.csv\")"
   ]
  },
  {
   "cell_type": "code",
   "execution_count": 0,
   "metadata": {
    "application/vnd.databricks.v1+cell": {
     "cellMetadata": {},
     "inputWidgets": {},
     "nuid": "7dc76a9e-dc73-4d82-8c38-8e3b7e38b164",
     "showTitle": false,
     "tableResultSettingsMap": {},
     "title": ""
    }
   },
   "outputs": [
    {
     "output_type": "stream",
     "name": "stdout",
     "output_type": "stream",
     "text": [
      "+-------------------------+---------+-----+---------------+---------------+-------------------+----------------+---------------+---------------+---------------+---------------+----------------+----------------+--------------------+--------------------+--------------+--------------+------------------------+---------------+------------------------+-------------------------+\n|STAGE                    |DATE     |PENS |PENS_HOME_SCORE|PENS_AWAY_SCORE|TEAM_NAME_HOME     |TEAM_NAME_AWAY  |TEAM_HOME_SCORE|TEAM_AWAY_SCORE|POSSESSION_HOME|POSSESSION_AWAY|TOTAL_SHOTS_HOME|TOTAL_SHOTS_AWAY|SHOTS_ON_TARGET_HOME|SHOTS_ON_TARGET_AWAY|DUELS_WON_HOME|DUELS_WON_AWAY|PREDICTION_TEAM_HOME_WIN|PREDICTION_DRAW|PREDICTION_TEAM_AWAY_WIN|LOCATION                 |\n+-------------------------+---------+-----+---------------+---------------+-------------------+----------------+---------------+---------------+---------------+---------------+----------------+----------------+--------------------+--------------------+--------------+--------------+------------------------+---------------+------------------------+-------------------------+\n| Group stage: Matchday 1 |6-9-2022 |FALSE|FALSE          |FALSE          |Dinamo Zagreb      |Chelsea         |1              |0              |31%            |69%            |6               |15              |3                   |3                   |null          |null          |49%                     |10             |51%                     |Maksimir                 |\n| Group stage: Matchday 1 |6-9-2022 |FALSE|FALSE          |FALSE          |Salzburg           |AC Milan        |1              |1              |34%            |66%            |16              |14              |4                   |3                   |null          |null          |41%                     |9              |59%                     |Red Bull Arena           |\n| Group stage: Matchday 1 |6-9-2022 |FALSE|FALSE          |FALSE          |Celtic             |Real Madrid     |0              |3              |35%            |65%            |10              |12              |4                   |6                   |null          |null          |47%                     |8              |53%                     |Celtic Park              |\n| Group stage: Matchday 1 |6-9-2022 |FALSE|FALSE          |FALSE          |RB Leipzig         |Shakhtar Donetsk|1              |4              |68%            |32%            |13              |5               |2                   |4                   |null          |null          |49%                     |8              |51%                     |Red Bull Arena           |\n| Group stage: Matchday 1 |6-9-2022 |FALSE|FALSE          |FALSE          |Borussia Dortmund  |K�benhavn       |3              |0              |63%            |37%            |15              |7               |4                   |2                   |null          |null          |45%                     |6              |55%                     |Signal Iduna Park        |\n| Group stage: Matchday 1 |6-9-2022 |FALSE|FALSE          |FALSE          |Sevilla            |Manchester City |0              |4              |38%            |62%            |6               |24              |1                   |10                  |null          |null          |43%                     |2              |57%                     |Ram�n S�nchez Pizju�n    |\n| Group stage: Matchday 1 |6-9-2022 |FALSE|FALSE          |FALSE          |Paris Saint-Germain|Juventus        |2              |1              |58%            |42%            |15              |13              |6                   |4                   |null          |null          |45%                     |3              |55%                     |Parc des Princes         |\n| Group stage: Matchday 1 |6-9-2022 |FALSE|FALSE          |FALSE          |Benfica            |Maccabi Haifa   |2              |0              |57%            |43%            |14              |7               |5                   |2                   |null          |null          |42%                     |8              |58%                     |Stadion da Luz           |\n| Group stage: Matchday 1 |7-9-2022 |FALSE|FALSE          |FALSE          |Ajax               |Rangers         |4              |0              |76%            |24%            |17              |4               |9                   |1                   |null          |null          |45%                     |3              |55%                     |Amsterdam Arena          |\n| Group stage: Matchday 1 |7-9-2022 |FALSE|FALSE          |FALSE          |Napoli             |Liverpool       |4              |1              |38%            |62%            |18              |15              |9                   |7                   |null          |null          |45%                     |8              |55%                     |San Paolo                |\n| Group stage: Matchday 1 |7-9-2022 |FALSE|FALSE          |FALSE          |Atletico Madrid    |Porto           |2              |1              |54%            |46%            |10              |17              |3                   |3                   |null          |null          |38%                     |3              |62%                     |Vicente Calderon         |\n| Group stage: Matchday 1 |7-9-2022 |FALSE|FALSE          |FALSE          |Club Brugge        |Bayer Leverkusen|1              |0              |47%            |53%            |9               |14              |3                   |3                   |null          |null          |43%                     |1              |57%                     |Jan Breydel              |\n| Group stage: Matchday 1 |7-9-2022 |FALSE|FALSE          |FALSE          |Internazionale     |Bayern Munich   |0              |2              |44%            |56%            |9               |21              |2                   |11                  |null          |null          |41%                     |8              |59%                     |San Siro                 |\n| Group stage: Matchday 1 |7-9-2022 |FALSE|FALSE          |FALSE          |Barcelona          |Viktoria Plze?  |5              |1              |77%            |23%            |20              |8               |11                  |1                   |null          |null          |37%                     |10             |63%                     |Nou Camp                 |\n| Group stage: Matchday 1 |7-9-2022 |FALSE|FALSE          |FALSE          |Eintracht Frankfurt|Sporting CP     |0              |3              |43%            |57%            |11              |8               |2                   |5                   |null          |null          |38%                     |10             |62%                     |Eintracht-Stadion        |\n| Group stage: Matchday 1 |7-9-2022 |FALSE|FALSE          |FALSE          |Tottenham Hotspur  |Marseille       |2              |0              |49%            |51%            |18              |9               |2                   |1                   |null          |null          |44%                     |3              |56%                     |Tottenham Hotspur Stadium|\n| Group stage: Matchday 2 |13-9-2022|FALSE|FALSE          |FALSE          |Liverpool          |Ajax            |2              |1              |57%            |43%            |24              |3               |10                  |1                   |null          |null          |46%                     |5              |54%                     |Anfield                  |\n| Group stage: Matchday 2 |13-9-2022|FALSE|FALSE          |FALSE          |Rangers            |Napoli          |0              |3              |46%            |54%            |22              |12              |4                   |5                   |null          |null          |35%                     |1              |65%                     |Ibrox Stadium            |\n| Group stage: Matchday 2 |13-9-2022|FALSE|FALSE          |FALSE          |Bayer Leverkusen   |Atletico Madrid |2              |0              |45%            |55%            |18              |12              |5                   |3                   |null          |null          |49%                     |2              |51%                     |BayArena                 |\n| Group stage: Matchday 2 |13-9-2022|FALSE|FALSE          |FALSE          |Porto              |Club Brugge     |0              |4              |55%            |45%            |15              |13              |4                   |7                   |null          |null          |44%                     |9              |56%                     |Est�dio do Drag�o        |\n+-------------------------+---------+-----+---------------+---------------+-------------------+----------------+---------------+---------------+---------------+---------------+----------------+----------------+--------------------+--------------------+--------------+--------------+------------------------+---------------+------------------------+-------------------------+\nonly showing top 20 rows\n\n"
     ]
    }
   ],
   "source": [
    "df_2022_23.show(truncate=False)"
   ]
  },
  {
   "cell_type": "code",
   "execution_count": 0,
   "metadata": {
    "application/vnd.databricks.v1+cell": {
     "cellMetadata": {
      "byteLimit": 2048000,
      "rowLimit": 10000
     },
     "inputWidgets": {},
     "nuid": "28bdcd8f-8921-446f-8c04-d01d35d3cae3",
     "showTitle": false,
     "tableResultSettingsMap": {},
     "title": ""
    }
   },
   "outputs": [
    {
     "output_type": "stream",
     "name": "stdout",
     "output_type": "stream",
     "text": [
      "+--------------+--------------+---------------+---------------+\n|DUELS_WON_HOME|DUELS_WON_AWAY|TEAM_HOME_SCORE|TEAM_AWAY_SCORE|\n+--------------+--------------+---------------+---------------+\n|          44.0|          56.0|              1|              0|\n|          38.0|          62.0|              1|              1|\n|          46.0|          54.0|              0|              3|\n|          47.0|          53.0|              1|              4|\n|          49.0|          51.0|              3|              0|\n+--------------+--------------+---------------+---------------+\nonly showing top 5 rows\n\n"
     ]
    }
   ],
   "source": [
    "from pyspark.sql.functions import regexp_replace\n",
    "# Eliminar los símbolos de porcentaje y espacios en blanco\n",
    "df_2022_23= df_2022_23.withColumn(\n",
    "    \"DUELS_WON_HOME\", \n",
    "    regexp_replace(col(\"DUELS_WON_HOME\"), \"%\", \"\").cast(\"float\")\n",
    ")\n",
    "\n",
    "df_2022_23 = df_2022_23.withColumn(\n",
    "    \"DUELS_WON_AWAY\", \n",
    "    regexp_replace(col(\"DUELS_WON_AWAY\"), \"%\", \"\").cast(\"float\")\n",
    ")\n",
    "# Pasor las otros dos columnas a tipo float \n",
    "df_2022_23 = df_2022_23.withColumn(\"DUELS_WON_HOME\", col(\"DUELS_WON_HOME\").cast(\"float\"))\n",
    "df_2022_23= df_2022_23.withColumn(\"DUELS_WON_AWAY\", col(\"DUELS_WON_AWAY\").cast(\"float\"))\n",
    "\n",
    "# Verificar que se convertido los datos correctamente\n",
    "df_2022_23.select(\"DUELS_WON_HOME\", \"DUELS_WON_AWAY\", \"TEAM_HOME_SCORE\", \"TEAM_AWAY_SCORE\").show(5)  # Verificar los valores"
   ]
  },
  {
   "cell_type": "markdown",
   "metadata": {
    "application/vnd.databricks.v1+cell": {
     "cellMetadata": {},
     "inputWidgets": {},
     "nuid": "c893c93c-b06c-4846-be7e-ae6690bda67c",
     "showTitle": false,
     "tableResultSettingsMap": {},
     "title": ""
    }
   },
   "source": [
    "* Filtramos los partidos en los que el local gano el duelo pero perdio , y al contrario, que el visitante gano el duelo pero perdio y comprobamos resultados de las consultas\n",
    "(comprobamos estadisticas incluyendo los goles, los duelos ganados y los equipos para darle mas veracidad)"
   ]
  },
  {
   "cell_type": "code",
   "execution_count": 0,
   "metadata": {
    "application/vnd.databricks.v1+cell": {
     "cellMetadata": {
      "byteLimit": 2048000,
      "rowLimit": 10000
     },
     "inputWidgets": {},
     "nuid": "9749f2da-abc4-4170-ad20-70caac7c0e15",
     "showTitle": false,
     "tableResultSettingsMap": {},
     "title": ""
    }
   },
   "outputs": [
    {
     "output_type": "stream",
     "name": "stdout",
     "output_type": "stream",
     "text": [
      "+-----+---------+--------------+---------------+---------------+--------------+--------------+\n|STAGE|TEAM_LOST|TEAM_NAME_AWAY|TEAM_HOME_SCORE|TEAM_AWAY_SCORE|DUELS_WON_HOME|DUELS_WON_AWAY|\n+-----+---------+--------------+---------------+---------------+--------------+--------------+\n+-----+---------+--------------+---------------+---------------+--------------+--------------+\n\n+--------------------+-------------------+-----------------+---------------+---------------+--------------+--------------+\n|               STAGE|     TEAM_NAME_HOME|        TEAM_LOST|TEAM_HOME_SCORE|TEAM_AWAY_SCORE|DUELS_WON_HOME|DUELS_WON_AWAY|\n+--------------------+-------------------+-----------------+---------------+---------------+--------------+--------------+\n| Group stage: Mat...|      Dinamo Zagreb|          Chelsea|              1|              0|          44.0|          56.0|\n| Group stage: Mat...|  Borussia Dortmund|        K�benhavn|              3|              0|          49.0|          51.0|\n| Group stage: Mat...|Paris Saint-Germain|         Juventus|              2|              1|          36.0|          64.0|\n| Group stage: Mat...|            Benfica|    Maccabi Haifa|              2|              0|          46.0|          54.0|\n| Group stage: Mat...|               Ajax|          Rangers|              4|              0|          47.0|          53.0|\n| Group stage: Mat...|             Napoli|        Liverpool|              4|              1|          44.0|          56.0|\n| Group stage: Mat...|    Atletico Madrid|            Porto|              2|              1|          45.0|          55.0|\n| Group stage: Mat...|        Club Brugge| Bayer Leverkusen|              1|              0|          44.0|          56.0|\n| Group stage: Mat...|          Barcelona|   Viktoria Plze?|              5|              1|          43.0|          57.0|\n| Group stage: Mat...|  Tottenham Hotspur|        Marseille|              2|              0|          45.0|          55.0|\n| Group stage: Mat...|          Liverpool|             Ajax|              2|              1|          48.0|          52.0|\n| Group stage: Mat...|   Bayer Leverkusen|  Atletico Madrid|              2|              0|          42.0|          58.0|\n| Group stage: Mat...|      Bayern Munich|        Barcelona|              2|              0|          39.0|          61.0|\n| Group stage: Mat...|        Sporting CP|Tottenham Hotspur|              2|              0|          45.0|          55.0|\n| Group stage: Mat...|        Real Madrid|       RB Leipzig|              2|              0|          43.0|          57.0|\n| Group stage: Mat...|          Liverpool|          Rangers|              2|              0|          39.0|          61.0|\n| Group stage: Mat...|        Club Brugge|  Atletico Madrid|              2|              0|          45.0|          55.0|\n| Group stage: Mat...|              Porto| Bayer Leverkusen|              2|              0|          39.0|          61.0|\n| Group stage: Mat...|      Bayern Munich|   Viktoria Plze?|              5|              0|          40.0|          60.0|\n| Group stage: Mat...|     Internazionale|        Barcelona|              1|              0|          37.0|          63.0|\n+--------------------+-------------------+-----------------+---------------+---------------+--------------+--------------+\nonly showing top 20 rows\n\n"
     ]
    }
   ],
   "source": [
    "from pyspark.sql.functions import col\n",
    "\n",
    "# Filtrar los partidos donde el equipo local ganó el duelo pero perdió el juego\n",
    "local_won_duel_lost_game = df_2022_23.filter(\n",
    "    (col(\"DUELS_WON_HOME\") > col(\"DUELS_WON_AWAY\")) & (col(\"TEAM_HOME_SCORE\") < col(\"TEAM_AWAY_SCORE\"))\n",
    ").select(\n",
    "    \"STAGE\", \n",
    "    \"TEAM_NAME_HOME\", \n",
    "    \"TEAM_NAME_AWAY\", \n",
    "    \"TEAM_HOME_SCORE\", \n",
    "    \"TEAM_AWAY_SCORE\",\n",
    "    \"DUELS_WON_HOME\", \n",
    "    \"DUELS_WON_AWAY\"\n",
    ").withColumnRenamed(\"TEAM_NAME_HOME\", \"TEAM_LOST\")\n",
    "\n",
    "# Mostrar los equipos locales que ganaron el duelo pero perdieron el juego, incluyendo los goles, los duelos ganados y los equipos\n",
    "local_won_duel_lost_game.show()\n",
    "\n",
    "# Filtrar los partidos donde el equipo visitante ganó el duelo pero perdió el juego\n",
    "away_won_duel_lost_game = df_2022_23.filter(\n",
    "    (col(\"DUELS_WON_AWAY\") > col(\"DUELS_WON_HOME\")) & (col(\"TEAM_AWAY_SCORE\") < col(\"TEAM_HOME_SCORE\"))\n",
    ").select(\n",
    "    \"STAGE\", \n",
    "    \"TEAM_NAME_HOME\", \n",
    "    \"TEAM_NAME_AWAY\", \n",
    "    \"TEAM_HOME_SCORE\", \n",
    "    \"TEAM_AWAY_SCORE\",\n",
    "    \"DUELS_WON_HOME\", \n",
    "    \"DUELS_WON_AWAY\"\n",
    ").withColumnRenamed(\"TEAM_NAME_AWAY\", \"TEAM_LOST\")\n",
    "\n",
    "# Mostrar los equipos visitantes que ganaron el duelo pero perdieron el juego, incluyendo los goles, los duelos ganados y los equipos\n",
    "away_won_duel_lost_game.show()\n"
   ]
  },
  {
   "cell_type": "markdown",
   "metadata": {
    "application/vnd.databricks.v1+cell": {
     "cellMetadata": {},
     "inputWidgets": {},
     "nuid": "d7be3f6d-7996-4cbf-af09-d02e570cab03",
     "showTitle": false,
     "tableResultSettingsMap": {},
     "title": ""
    },
    "jupyter": {
     "outputs_hidden": true
    }
   },
   "source": [
    "* Filtramos de nuevo pero unicamnete con lo duelos ganado y partidos perdidos por amabas partes y mostramos el resultado"
   ]
  },
  {
   "cell_type": "code",
   "execution_count": 0,
   "metadata": {
    "application/vnd.databricks.v1+cell": {
     "cellMetadata": {
      "byteLimit": 2048000,
      "rowLimit": 10000
     },
     "inputWidgets": {},
     "nuid": "9d7a7ae6-d118-4a55-a22a-9af7d3df4932",
     "showTitle": false,
     "tableResultSettingsMap": {},
     "title": ""
    }
   },
   "outputs": [
    {
     "output_type": "stream",
     "name": "stdout",
     "output_type": "stream",
     "text": [
      "+--------------------+-----------------+\n|               STAGE|        TEAM_LOST|\n+--------------------+-----------------+\n| Group stage: Mat...|          Chelsea|\n| Group stage: Mat...|        K�benhavn|\n| Group stage: Mat...|         Juventus|\n| Group stage: Mat...|    Maccabi Haifa|\n| Group stage: Mat...|          Rangers|\n| Group stage: Mat...|        Liverpool|\n| Group stage: Mat...|            Porto|\n| Group stage: Mat...| Bayer Leverkusen|\n| Group stage: Mat...|   Viktoria Plze?|\n| Group stage: Mat...|        Marseille|\n| Group stage: Mat...|             Ajax|\n| Group stage: Mat...|  Atletico Madrid|\n| Group stage: Mat...|        Barcelona|\n| Group stage: Mat...|Tottenham Hotspur|\n| Group stage: Mat...|       RB Leipzig|\n| Group stage: Mat...|          Rangers|\n| Group stage: Mat...|  Atletico Madrid|\n| Group stage: Mat...| Bayer Leverkusen|\n| Group stage: Mat...|   Viktoria Plze?|\n| Group stage: Mat...|        Barcelona|\n+--------------------+-----------------+\nonly showing top 20 rows\n\n"
     ]
    }
   ],
   "source": [
    "from pyspark.sql.functions import col\n",
    "\n",
    "# Filtrar los partidos donde el equipo local ganó el duelo pero perdió el juego\n",
    "local_won_duel_lost_game = df_2022_23.filter(\n",
    "    (col(\"DUELS_WON_HOME\") > col(\"DUELS_WON_AWAY\")) & (col(\"TEAM_HOME_SCORE\") < col(\"TEAM_AWAY_SCORE\"))\n",
    ").select(\"STAGE\", \"TEAM_NAME_HOME\").withColumnRenamed(\"TEAM_NAME_HOME\", \"TEAM_LOST\")\n",
    "\n",
    "# Filtrar los partidos donde el equipo visitante ganó el duelo pero perdió el juego\n",
    "away_won_duel_lost_game = df_2022_23.filter(\n",
    "    (col(\"DUELS_WON_AWAY\") > col(\"DUELS_WON_HOME\")) & (col(\"TEAM_AWAY_SCORE\") < col(\"TEAM_HOME_SCORE\"))\n",
    ").select(\"STAGE\", \"TEAM_NAME_AWAY\").withColumnRenamed(\"TEAM_NAME_AWAY\", \"TEAM_LOST\")\n",
    "\n",
    "# Unir los dos DataFrames\n",
    "df_teams_lost_game = local_won_duel_lost_game.union(away_won_duel_lost_game)\n",
    "\n",
    "# Verificar el resultado\n",
    "df_teams_lost_game.show()\n",
    "\n",
    "# Guardar como una vista temporal\n",
    "df_teams_lost_game.createOrReplaceTempView(\"TEAM_WON_DUEL_LOST_GAME_STAGE_WISE\")"
   ]
  }
 ],
 "metadata": {
  "application/vnd.databricks.v1+notebook": {
   "dashboards": [],
   "environmentMetadata": null,
   "language": "python",
   "notebookMetadata": {
    "pythonIndentUnit": 4
   },
   "notebookName": "Caso_2",
   "widgets": {}
  }
 },
 "nbformat": 4,
 "nbformat_minor": 0
}
